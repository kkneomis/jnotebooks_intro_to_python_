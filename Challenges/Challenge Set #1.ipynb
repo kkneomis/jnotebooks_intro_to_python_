{
 "cells": [
  {
   "cell_type": "markdown",
   "metadata": {},
   "source": [
    "# Challenge set #1\n",
    "### Printing and data types"
   ]
  },
  {
   "cell_type": "markdown",
   "metadata": {},
   "source": [
    "### Challenge #1\n",
    "Complete the code sample below to output\n",
    "\"Hello World! My name is [Your name]\""
   ]
  },
  {
   "cell_type": "code",
   "execution_count": null,
   "metadata": {
    "collapsed": false
   },
   "outputs": [],
   "source": [
    "print \"\""
   ]
  },
  {
   "cell_type": "markdown",
   "metadata": {},
   "source": [
    "### Challenge #2\n",
    "Let's do the same thing. This time we will first set your name to a variable. Then we will print it.\n",
    "Complete the code sample below\n"
   ]
  },
  {
   "cell_type": "code",
   "execution_count": null,
   "metadata": {
    "collapsed": false
   },
   "outputs": [],
   "source": [
    "name = \"Your name goes here\"\n",
    "print \"Hello World! My name is\" # add something here"
   ]
  },
  {
   "cell_type": "markdown",
   "metadata": {},
   "source": [
    "### Challenge #3\n",
    "Let's do some math. We have two number and want to find out their sum.\n",
    "Complete the code sample below.\n"
   ]
  },
  {
   "cell_type": "code",
   "execution_count": null,
   "metadata": {
    "collapsed": true
   },
   "outputs": [],
   "source": [
    "var1 = 9\n",
    "var2 = 10\n",
    "sum = # add something here\n",
    "print \"The sum of var1 and var2 is\" # add something here\n"
   ]
  },
  {
   "cell_type": "markdown",
   "metadata": {},
   "source": [
    "### Challenge #4\n",
    "We have a list of numbers and want to determine if they are even or odd.\n",
    "Complete the code sample below.\n",
    "\n",
    "Hint: let's review all of our operators."
   ]
  },
  {
   "cell_type": "code",
   "execution_count": null,
   "metadata": {
    "collapsed": false
   },
   "outputs": [],
   "source": [
    "mynumbers = [1,2,3,4,47,48,992,999]\n",
    "for number in mynumbers:\n",
    "    if number: # change something here\n",
    "        print \"%s is an odd number\" % number\n",
    "    else:\n",
    "        print \"%s is an even number\" % number"
   ]
  },
  {
   "cell_type": "markdown",
   "metadata": {
    "collapsed": true
   },
   "source": [
    "### Challenge #5\n",
    "We have a list of numbers and want to determine if they bigger than 50.\n",
    "Complete the code sample below.\n",
    "\n",
    "Hint: let's review all of our operators."
   ]
  },
  {
   "cell_type": "code",
   "execution_count": null,
   "metadata": {
    "collapsed": false
   },
   "outputs": [],
   "source": [
    "mynumbers = [1,2,3,4,47,48,992,999]\n",
    "for number in mynumbers:\n",
    "    if number: # change something here\n",
    "        print \"%s is greater than 50\" % number\n",
    "    else:\n",
    "        print \"%s is less than 50\" % number"
   ]
  },
  {
   "cell_type": "markdown",
   "metadata": {},
   "source": []
  },
  {
   "cell_type": "code",
   "execution_count": null,
   "metadata": {
    "collapsed": true
   },
   "outputs": [],
   "source": []
  },
  {
   "cell_type": "code",
   "execution_count": null,
   "metadata": {
    "collapsed": true
   },
   "outputs": [],
   "source": []
  }
 ],
 "metadata": {
  "anaconda-cloud": {},
  "kernelspec": {
   "display_name": "Python [default]",
   "language": "python",
   "name": "python2"
  },
  "language_info": {
   "codemirror_mode": {
    "name": "ipython",
    "version": 2
   },
   "file_extension": ".py",
   "mimetype": "text/x-python",
   "name": "python",
   "nbconvert_exporter": "python",
   "pygments_lexer": "ipython2",
   "version": "2.7.12"
  }
 },
 "nbformat": 4,
 "nbformat_minor": 1
}
