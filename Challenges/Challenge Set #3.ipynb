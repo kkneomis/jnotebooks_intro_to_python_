{
 "cells": [
  {
   "cell_type": "markdown",
   "metadata": {},
   "source": [
    "# Challenge set #3"
   ]
  },
  {
   "cell_type": "markdown",
   "metadata": {},
   "source": [
    "## Challenge #1"
   ]
  },
  {
   "cell_type": "markdown",
   "metadata": {},
   "source": [
    "Some people really like coins.  You happen to be one of those people!  In a world filled with electronic payments and banking from your cell phone, you prefer to deal exclusively in cash – specifically coins that are generally available (no silver dollars or half dollars for you).  \n",
    "\n",
    "However, you are also practical.  I mean, paying for your lunch in pennies?  That’s just silly.  In order to strike the right balance of quirky and practical, you need to be able to pay for things using the fewest number of coins possible – and your program will help you do just that.\n"
   ]
  },
  {
   "cell_type": "markdown",
   "metadata": {},
   "source": [
    "For each dollar amount given, have your program calculate the fewest number of coins necessary to arrive at that dollar amount.  Your program will output the following:\n",
    "\n",
    "* The first line should contain the dollar amount exactly as it appears in the input.\n",
    "* The next line should contain the amount of quarters in the following format: \n",
    "    * Quarters={amount of quarters calculate}\n",
    "* The next line should contain the amount of dimes in the following format: \n",
    "    * Dimes={amount of dimes calculated}\n",
    "* The next line should contain the amount of nickels in the following format: \n",
    "    * Nickels={amount of nickels calculated}\n",
    "* The next line should contain the amount of pennies in the following format:  \n",
    "    * Pennies={amount of pennies calculated}\n",
    "\n",
    "NOTE: If a coin was not used, still include that coin in the output with a “0” amount (i.e. Pennies=0).\n"
   ]
  },
  {
   "cell_type": "code",
   "execution_count": 7,
   "metadata": {
    "collapsed": false
   },
   "outputs": [],
   "source": [
    "amounts = [\"$3.87\", \"$2.74\", \"$14.84\", \"$0.76\" ]"
   ]
  },
  {
   "cell_type": "markdown",
   "metadata": {},
   "source": [
    "#### Example output\n",
    "```text \n",
    "$3.87\n",
    "Quarters=15\n",
    "Dimes=1\n",
    "Nickels=0\n",
    "Pennies=2\n",
    "$2.74\n",
    "Quarters=10\n",
    "Dimes=2\n",
    "Nickels=0\n",
    "Pennies=4\n",
    "$14.84\n",
    "Quarters=59\n",
    "Dimes=0\n",
    "Nickels=1\n",
    "Pennies=4\n",
    "$0.76\n",
    "Quarters=3\n",
    "Dimes=0\n",
    "Nickels=0\n",
    "Pennies=1\n",
    "```"
   ]
  },
  {
   "cell_type": "code",
   "execution_count": 4,
   "metadata": {
    "collapsed": false
   },
   "outputs": [
    {
     "name": "stdout",
     "output_type": "stream",
     "text": [
      "15\n"
     ]
    }
   ],
   "source": [
    "# Code goes here\n",
    "\n",
    "def change(amount):\n",
    "    quarters = 0\n",
    "    nickels = 0\n",
    "    dimes = 0\n",
    "    pennies = 0\n",
    "    while(amount > .25):\n",
    "        amount = amount - .25\n",
    "        quarters = quarters + 1\n",
    "        \n",
    "    print quarters\n",
    "    \n",
    "change(3.87)\n",
    "\n",
    "\n",
    "    \n",
    "    "
   ]
  },
  {
   "cell_type": "code",
   "execution_count": null,
   "metadata": {
    "collapsed": true
   },
   "outputs": [],
   "source": []
  },
  {
   "cell_type": "markdown",
   "metadata": {},
   "source": [
    "## Challenge #2"
   ]
  },
  {
   "cell_type": "markdown",
   "metadata": {},
   "source": [
    "Do you know the Triangle Inequality Theorem?  Just in case you don’t, here it is:\n",
    "\n",
    "The sum of the lengths of any two sides of a triangle is greater than the length of the third side.\n",
    "\n",
    "That sounds easy enough, right?  Your job is to write a program that can identify valid triangles.  Not only do you need to determine if the three sides can form a triangle – you also have to tell what type it is.  There are three classifications of triangles:\n",
    "\n",
    "* Equilateral triangles have three sides of equal length.\n",
    "* Isosceles triangles have two sides of equal length and one side that is different.\n",
    "* Scalene triangles have no equal side lengths.\n"
   ]
  },
  {
   "cell_type": "markdown",
   "metadata": {},
   "source": [
    "or each test case, your program will output one of the following four output possibilities:\n",
    "\n",
    "* Not a Triangle\n",
    "* Equilateral\n",
    "* Isosceles\n",
    "* Scalene\n"
   ]
  },
  {
   "cell_type": "code",
   "execution_count": 3,
   "metadata": {
    "collapsed": true
   },
   "outputs": [],
   "source": [
    "case1 = [20, 20, 23]\n",
    "case2 = [20, 20, 20]\n",
    "case3 = [20, 21, 22]\n",
    "case4 = [13, 84, 30]\n"
   ]
  },
  {
   "cell_type": "code",
   "execution_count": 4,
   "metadata": {
    "collapsed": false
   },
   "outputs": [],
   "source": [
    "# Code goes here\n",
    "def triangulate(case):\n",
    "    list.sort()\n",
    "    if case[0] == case[1] == case[2]:\n",
    "        print 'equilateral'\n",
    "        \n",
    "    elif \n",
    "    # case[0] + case[1] < case[2] => not a triangle\n",
    "    # if 0 = 1 = 2:\n",
    "    #    then case = equilateral\n",
    "        \n",
    "    # if 0 = 1 =/= 2:\n",
    "    #    then case = isoceles\n",
    "        \n",
    "    # if none of above\n",
    "    #    then case = scalene\n",
    "        \n",
    "        \n",
    "    print \"triangle type\"\n"
   ]
  },
  {
   "cell_type": "code",
   "execution_count": 5,
   "metadata": {
    "collapsed": false
   },
   "outputs": [
    {
     "name": "stdout",
     "output_type": "stream",
     "text": [
      "triangle type\n"
     ]
    }
   ],
   "source": [
    "triangulate(case1)"
   ]
  },
  {
   "cell_type": "code",
   "execution_count": null,
   "metadata": {
    "collapsed": true
   },
   "outputs": [],
   "source": []
  },
  {
   "cell_type": "code",
   "execution_count": null,
   "metadata": {
    "collapsed": true
   },
   "outputs": [],
   "source": []
  }
 ],
 "metadata": {
  "anaconda-cloud": {},
  "kernelspec": {
   "display_name": "Python [conda root]",
   "language": "python",
   "name": "conda-root-py"
  },
  "language_info": {
   "codemirror_mode": {
    "name": "ipython",
    "version": 2
   },
   "file_extension": ".py",
   "mimetype": "text/x-python",
   "name": "python",
   "nbconvert_exporter": "python",
   "pygments_lexer": "ipython2",
   "version": "2.7.12"
  }
 },
 "nbformat": 4,
 "nbformat_minor": 1
}
