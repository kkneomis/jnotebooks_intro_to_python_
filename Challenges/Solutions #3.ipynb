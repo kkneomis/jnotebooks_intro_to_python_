{
 "cells": [
  {
   "cell_type": "code",
   "execution_count": 1,
   "metadata": {
    "collapsed": true
   },
   "outputs": [],
   "source": [
    "# Code goes here\n",
    "def triangulate(sides):\n",
    "    print sides\n",
    "    sides.sort()\n",
    "    if sides[0] == sides [1]:\n",
    "        if sides[1] == sides [2]:\n",
    "            print \"Equilateral\"\n",
    "        else:\n",
    "            print \"Isosceles\"\n",
    "    else:\n",
    "        if sides[0] + sides[1] > sides[2]:\n",
    "            print \"Scalene\"\n",
    "        else:\n",
    "            print \"Not a Triangle\""
   ]
  },
  {
   "cell_type": "code",
   "execution_count": 1,
   "metadata": {
    "collapsed": true
   },
   "outputs": [],
   "source": [
    "w1 = \"pots\"\n",
    "w2 = \"tops\""
   ]
  },
  {
   "cell_type": "code",
   "execution_count": 8,
   "metadata": {
    "collapsed": true
   },
   "outputs": [],
   "source": [
    "def anagram(w1, w2):\n",
    "    w1 = list(w1).sort()\n",
    "    w2 =list(w2).sort()\n",
    "    \n",
    "    if w1==w2:\n",
    "        print \"These are anagram\"\n",
    "    else:\n",
    "        print \"These are not anagrams\"\n",
    "\n"
   ]
  },
  {
   "cell_type": "code",
   "execution_count": 9,
   "metadata": {
    "collapsed": false
   },
   "outputs": [
    {
     "name": "stdout",
     "output_type": "stream",
     "text": [
      "These are anagram\n"
     ]
    }
   ],
   "source": [
    "anagram(w1, w2)"
   ]
  },
  {
   "cell_type": "code",
   "execution_count": null,
   "metadata": {
    "collapsed": true
   },
   "outputs": [],
   "source": []
  },
  {
   "cell_type": "code",
   "execution_count": null,
   "metadata": {
    "collapsed": true
   },
   "outputs": [],
   "source": []
  }
 ],
 "metadata": {
  "anaconda-cloud": {},
  "kernelspec": {
   "display_name": "Python [default]",
   "language": "python",
   "name": "python2"
  },
  "language_info": {
   "codemirror_mode": {
    "name": "ipython",
    "version": 2
   },
   "file_extension": ".py",
   "mimetype": "text/x-python",
   "name": "python",
   "nbconvert_exporter": "python",
   "pygments_lexer": "ipython2",
   "version": "2.7.12"
  }
 },
 "nbformat": 4,
 "nbformat_minor": 1
}
