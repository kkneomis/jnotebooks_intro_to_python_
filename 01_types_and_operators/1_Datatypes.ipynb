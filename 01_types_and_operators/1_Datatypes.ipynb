{
 "cells": [
  {
   "cell_type": "markdown",
   "metadata": {},
   "source": [
    "# Datatypes"
   ]
  },
  {
   "cell_type": "markdown",
   "metadata": {},
   "source": [
    "In Python, every value has a datatype, but you don’t need to declare the datatype of variables. How does that work? Based on each variable’s original assignment, Python figures out what type it is and keeps tracks of that internally.\n"
   ]
  },
  {
   "cell_type": "markdown",
   "metadata": {},
   "source": [
    "1. __Booleans__ are either True or False.\n",
    "2. __Numbers__ can be integers (1 and 2), floats (1.1 and 1.2), fractions (1/2 and 2/3), or even complex numbers.\n",
    "3. __Strings__ are sequences of Unicode characters, e.g. an html document. \n",
    "4. ~~Bytes and byte arrays, e.g. a jpeg image file.~~\n",
    "5. __Lists__ are ordered sequences of values.\n",
    "6. ~~Tuples are ordered, immutable sequences of values.~~\n",
    "7. __Sets__ are unordered bags of values.\n",
    "8. __Dictionaries__ are unordered bags of key-value pairs.\n",
    "\n",
    "Source: http://www.diveintopython3.net/native-datatypes.html"
   ]
  },
  {
   "cell_type": "markdown",
   "metadata": {},
   "source": [
    "# Variables\n",
    "\n",
    "A name that is used to denote something or a value is called a variable. In python, variables can be declared and values can be assigned to it as follows,"
   ]
  },
  {
   "cell_type": "code",
   "execution_count": 2,
   "metadata": {
    "collapsed": true
   },
   "outputs": [],
   "source": [
    "x = 2\n",
    "y = 5\n",
    "z='6'\n",
    "xy = 'Hey'"
   ]
  },
  {
   "cell_type": "markdown",
   "metadata": {},
   "source": [
    "### Booleans\n",
    "\n",
    "Booleans are either true or false. Python has two constants, cleverly named True and False, which can be used to assign boolean values directly. Expressions can also evaluate to a boolean value. In certain places (like if statements), Python expects an expression to evaluate to a boolean value. These places are called boolean contexts. You can use virtually any expression in a boolean context, and Python will try to determine its truth value. Different datatypes have different rules about which values are true or false in a boolean context. "
   ]
  },
  {
   "cell_type": "code",
   "execution_count": 12,
   "metadata": {
    "collapsed": false,
    "scrolled": true
   },
   "outputs": [
    {
     "data": {
      "text/plain": [
       "False"
      ]
     },
     "execution_count": 12,
     "metadata": {},
     "output_type": "execute_result"
    }
   ],
   "source": [
    "# Declaring a boolean variable\n",
    "# Trying playing around with this variable\n",
    "# Press shift + enter to evaluate the cell\n",
    "var1 = False\n",
    "\n",
    "var1"
   ]
  },
  {
   "cell_type": "markdown",
   "metadata": {},
   "source": [
    "### Numbers\n",
    "\n",
    "Numbers are awesome. There are so many to choose from. Python supports both integers and floating point numbers. There’s no type declaration to distinguish them; Python tells them apart by the presence or absence of a decimal point.\n",
    "\n",
    "__Ints__ can be a negative or positive string of decimal digits (with no decimal point)\n",
    "\n",
    "Once you add a decimal point, you now have a __float__.\n",
    "\n",
    "We'll come back to what you can do with numbers later (operators).\n",
    "\n",
    "> You can use the type() function to check the value's type"
   ]
  },
  {
   "cell_type": "code",
   "execution_count": 33,
   "metadata": {
    "collapsed": false
   },
   "outputs": [
    {
     "name": "stdout",
     "output_type": "stream",
     "text": [
      "<type 'int'>\n",
      "<type 'int'>\n",
      "<type 'int'>\n"
     ]
    }
   ],
   "source": [
    "# Let's declare an int\n",
    "# Try modifying these values such that it remains and int.\n",
    "number1 = 999\n",
    "number2 = -5\n",
    "number3 = 29923923\n",
    "\n",
    "print type(number1)\n",
    "print type(number2)\n",
    "print type(number3)"
   ]
  },
  {
   "cell_type": "code",
   "execution_count": 34,
   "metadata": {
    "collapsed": false
   },
   "outputs": [
    {
     "name": "stdout",
     "output_type": "stream",
     "text": [
      "<type 'float'>\n",
      "<type 'float'>\n",
      "<type 'float'>\n"
     ]
    }
   ],
   "source": [
    "# Let's declare a float\n",
    "# Try modifying these values such that it remains a float.\n",
    "number4 = 999.00\n",
    "number5 = -5.23\n",
    "number6 = 3.1415\n",
    "\n",
    "print type(number4)\n",
    "print type(number5)\n",
    "print type(number6)"
   ]
  },
  {
   "cell_type": "markdown",
   "metadata": {},
   "source": [
    "Some operators (like addition) will coerce integers to floating point numbers as needed. You can also coerce them by yourself.\n",
    "\n"
   ]
  },
  {
   "cell_type": "code",
   "execution_count": 35,
   "metadata": {
    "collapsed": false
   },
   "outputs": [
    {
     "data": {
      "text/plain": [
       "int"
      ]
     },
     "execution_count": 35,
     "metadata": {},
     "output_type": "execute_result"
    }
   ],
   "source": [
    "number7 = int(2.3345)\n",
    "type(number7)"
   ]
  },
  {
   "cell_type": "code",
   "execution_count": 36,
   "metadata": {
    "collapsed": false
   },
   "outputs": [
    {
     "data": {
      "text/plain": [
       "float"
      ]
     },
     "execution_count": 36,
     "metadata": {},
     "output_type": "execute_result"
    }
   ],
   "source": [
    "number8 = float(5)\n",
    "type(number8)"
   ]
  },
  {
   "cell_type": "markdown",
   "metadata": {},
   "source": [
    "### Strings\n",
    "\n",
    "In python, a string is an ordered collection of characters, used to store and represent text-based information. Strings can be used to represent just about anything that can be encoded as text: symbols and words (e.g. your name), contents of text files loaded into memory, etc...\n",
    "\n",
    "In most cases, we can tell a value is a string if it is represented within single or double quotes. "
   ]
  },
  {
   "cell_type": "code",
   "execution_count": 40,
   "metadata": {
    "collapsed": false
   },
   "outputs": [
    {
     "name": "stdout",
     "output_type": "stream",
     "text": [
      "<type 'str'>\n",
      "<type 'str'>\n",
      "<type 'str'>\n",
      "<type 'str'>\n",
      "<type 'str'>\n"
     ]
    }
   ],
   "source": [
    "# Examples of strings\n",
    "\n",
    "#Empty string\n",
    "empty_string = ''\n",
    "\n",
    "# It makes no difference whether you use single or double quotes\n",
    "# Just make sure they match\n",
    "string1 = \"Howard Bison\"\n",
    "string2 = 'Howard Bison'\n",
    "\n",
    "\n",
    "# You can even use quotes inside a string as long as you alternate them\n",
    "string3 = \"Howard 'The Real HU' University\"\n",
    "string4 = 'Howard \"The Real HU\" University'\n",
    "\n",
    "# Even a number can be represented as a string\n",
    "string5 = '1867'\n",
    "\n",
    "print type(string1)\n",
    "print type(string2)\n",
    "print type(string3)\n",
    "print type(string4)\n",
    "print type(string5)"
   ]
  },
  {
   "cell_type": "markdown",
   "metadata": {},
   "source": [
    "### Lists\n",
    "\n",
    "A list is an ordered set of items. You can generally add any and all types of values to lists -- including numbers, strings, and even other lists.\n",
    "\n",
    "Creating a list is easy: use square brackets to wrap a comma-separated list of values."
   ]
  },
  {
   "cell_type": "code",
   "execution_count": 54,
   "metadata": {
    "collapsed": false
   },
   "outputs": [],
   "source": [
    "# An empty list\n",
    "empty_list = []\n",
    "\n",
    "# Here is an examble of a list of string\n",
    "a_list = ['a', 'b', 'yee', 'z', 'is', 'the', 'best', 'rapper', 'of', 'all', 'time'] \n",
    "\n",
    "# I can als ohave a list of numbers,\n",
    "b_list = [1, 2, 3, 4, 5, 6]\n",
    "\n",
    "# Or even all of the about\n",
    "c_list = [1, 2, '3', 'tomato', 'potato']\n",
    "\n",
    "# Or even a list inside of list!!!! ( a nested list)\n",
    "d_list = [1, 2, ['another', 'awesome', 'list'], 4, 'five']"
   ]
  },
  {
   "cell_type": "markdown",
   "metadata": {},
   "source": [
    "We can access a list using the indexes of the contained items. \n",
    "With any given list, nth item has an index of n-1. Meaning the first item has an index of 0, the second 1, the third 2... etc...\n",
    "\n",
    "Item | index |\n",
    " ----| ----\n",
    "1st | 0\n",
    "2nd | 1\n",
    "3rd | 2\n",
    "...| ...\n",
    "nth | n-1"
   ]
  },
  {
   "cell_type": "code",
   "execution_count": 53,
   "metadata": {
    "collapsed": false
   },
   "outputs": [
    {
     "name": "stdout",
     "output_type": "stream",
     "text": [
      "a\n",
      "c\n",
      "e\n"
     ]
    }
   ],
   "source": [
    "#Given a list, here is how we would index the contained objects\n",
    "ilist = ['a', 'b', 'c', 'd', 'e']\n",
    "\n",
    "# The first item\n",
    "print ilist[0]\n",
    "\n",
    "# The third item\n",
    "print ilist[2]\n",
    "\n",
    "# The last item\n",
    "print ilist[-1]"
   ]
  },
  {
   "cell_type": "markdown",
   "metadata": {},
   "source": [
    "### Dictionaries\n",
    "\n",
    "Dictionaries are essentially ordered lists (organized collection of objects). Entries in dictionaries are stored in key value pairs. So unlike lists, items can be retrieved using their keys as opposed to indices. "
   ]
  },
  {
   "cell_type": "code",
   "execution_count": 56,
   "metadata": {
    "collapsed": false
   },
   "outputs": [],
   "source": [
    "# Empty dictionary \n",
    "d1 = {}\n",
    "\n",
    "# Two item dictionary\n",
    "d2 = { 'patriots':28 , 'falcons': 3}\n",
    "\n",
    "# Keys and Values can be anything\n",
    "artist = {'first_name': 'Sean',\n",
    "          'last_name': 'Carter',\n",
    "          'wife': 'Beyonce Knowles',\n",
    "          'children': ['Blue Ivy', 'Sir', 'Rumi']}"
   ]
  },
  {
   "cell_type": "code",
   "execution_count": 57,
   "metadata": {
    "collapsed": false
   },
   "outputs": [
    {
     "name": "stdout",
     "output_type": "stream",
     "text": [
      "Sean\n",
      "['Blue Ivy', 'Sir', 'Rumi']\n"
     ]
    }
   ],
   "source": [
    "# Now here's how we would access some of the values\n",
    "print artist['first_name']\n",
    "\n",
    "print artist['children']"
   ]
  },
  {
   "cell_type": "code",
   "execution_count": null,
   "metadata": {
    "collapsed": true
   },
   "outputs": [],
   "source": []
  }
 ],
 "metadata": {
  "anaconda-cloud": {},
  "kernelspec": {
   "display_name": "Python [conda root]",
   "language": "python",
   "name": "conda-root-py"
  },
  "language_info": {
   "codemirror_mode": {
    "name": "ipython",
    "version": 2
   },
   "file_extension": ".py",
   "mimetype": "text/x-python",
   "name": "python",
   "nbconvert_exporter": "python",
   "pygments_lexer": "ipython2",
   "version": "2.7.12"
  }
 },
 "nbformat": 4,
 "nbformat_minor": 1
}
