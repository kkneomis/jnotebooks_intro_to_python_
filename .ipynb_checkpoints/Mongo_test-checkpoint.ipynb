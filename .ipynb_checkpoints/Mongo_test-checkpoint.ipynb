{
 "cells": [
  {
   "cell_type": "code",
   "execution_count": 12,
   "metadata": {
    "collapsed": false
   },
   "outputs": [],
   "source": [
    "from pymongo import MongoClient\n",
    "import json"
   ]
  },
  {
   "cell_type": "code",
   "execution_count": 19,
   "metadata": {
    "collapsed": false
   },
   "outputs": [
    {
     "data": {
      "text/plain": [
       "MongoClient(host=['localhost:27017'], document_class=dict, tz_aware=False, connect=True, read_preference=Primary())"
      ]
     },
     "execution_count": 19,
     "metadata": {},
     "output_type": "execute_result"
    }
   ],
   "source": [
    "from mongoengine import *\n",
    "import datetime\n",
    "connect('mongoengine_test', host='localhost', port=27017)"
   ]
  },
  {
   "cell_type": "code",
   "execution_count": 24,
   "metadata": {
    "collapsed": false
   },
   "outputs": [],
   "source": [
    "class Professor(Document):\n",
    "    id = StringField(required=True, max_length=200)\n",
    "    name = StringField(required=True, max_length=200)\n",
    "    email = StringField(required=True, max_length=200)\n",
    "    role = StringField(required=True, max_length=200)\n",
    "    phone = StringField(max_length=200)\n",
    "    tags = StringField(required=True, max_length=200)\n",
    "    room = StringField(max_length=200)\n",
    "    department = StringField(required=True, max_length=200)\n",
    "    biography = StringField(required=True, max_length=1000)\n",
    "    courses_taught = ListField(StringField(max_length=300))\n",
    "    education = ListField(StringField(max_length=300))\n",
    "    areas_of_expertise = ListField(StringField(max_length=300))\n",
    "    selected_research = ListField(StringField(max_length=300))\n",
    "    last_mod = DateTimeField(default=datetime.datetime.now)"
   ]
  },
  {
   "cell_type": "code",
   "execution_count": 23,
   "metadata": {
    "collapsed": false
   },
   "outputs": [
    {
     "name": "stdout",
     "output_type": "stream",
     "text": [
      "Sample Post\n",
      "A Better Post Title\n"
     ]
    }
   ],
   "source": [
    "post_1 = Post(\n",
    "    title='Sample Post',\n",
    "    content='Some engaging content',\n",
    "    author='Scott'\n",
    ")\n",
    "post_1.save()       # This will perform an insert\n",
    "print(post_1.title)\n",
    "post_1.title = 'A Better Post Title'\n",
    "post_1.save()       # This will perform an atomic edit on \"title\"\n",
    "print(post_1.title)"
   ]
  },
  {
   "cell_type": "code",
   "execution_count": null,
   "metadata": {
    "collapsed": false
   },
   "outputs": [],
   "source": []
  },
  {
   "cell_type": "code",
   "execution_count": null,
   "metadata": {
    "collapsed": true
   },
   "outputs": [],
   "source": []
  }
 ],
 "metadata": {
  "anaconda-cloud": {},
  "kernelspec": {
   "display_name": "Python [conda root]",
   "language": "python",
   "name": "conda-root-py"
  },
  "language_info": {
   "codemirror_mode": {
    "name": "ipython",
    "version": 2
   },
   "file_extension": ".py",
   "mimetype": "text/x-python",
   "name": "python",
   "nbconvert_exporter": "python",
   "pygments_lexer": "ipython2",
   "version": "2.7.12"
  }
 },
 "nbformat": 4,
 "nbformat_minor": 1
}
