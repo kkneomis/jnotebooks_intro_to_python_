{
 "cells": [
  {
   "cell_type": "code",
   "execution_count": null,
   "metadata": {
    "collapsed": false
   },
   "outputs": [],
   "source": [
    "from pymongo import MongoClient\n",
    "import json"
   ]
  },
  {
   "cell_type": "code",
   "execution_count": null,
   "metadata": {
    "collapsed": false
   },
   "outputs": [],
   "source": [
    "from mongoengine import *\n",
    "import datetime\n",
    "connect('mongoengine_test', host='localhost', port=27017)"
   ]
  },
  {
   "cell_type": "code",
   "execution_count": null,
   "metadata": {
    "collapsed": false
   },
   "outputs": [],
   "source": [
    "class Professor(Document):\n",
    "    prof_id = StringField(required=True, max_length=200)\n",
    "    name = StringField(required=True, max_length=200)\n",
    "    email = StringField(required=True, max_length=200)\n",
    "    role = StringField(required=True, max_length=200)\n",
    "    phone = StringField(max_length=200)\n",
    "    tags = StringField(required=True, max_length=200)\n",
    "    room = StringField(max_length=200)\n",
    "    department = StringField(required=True, max_length=200)\n",
    "    biography = StringField(required=True, max_length=1000)\n",
    "    courses_taught = ListField(StringField(max_length=300))\n",
    "    education = ListField(StringField(max_length=300))\n",
    "    areas_of_expertise = ListField(StringField(max_length=300))\n",
    "    selected_research = ListField(StringField(max_length=300))\n",
    "    last_mod = DateTimeField(default=datetime.datetime.now)"
   ]
  },
  {
   "cell_type": "code",
   "execution_count": 35,
   "metadata": {
    "collapsed": false
   },
   "outputs": [
    {
     "ename": "SyntaxError",
     "evalue": "EOL while scanning string literal (<ipython-input-35-09195cbb40c0>, line 7)",
     "output_type": "error",
     "traceback": [
      "\u001b[0;36m  File \u001b[0;32m\"<ipython-input-35-09195cbb40c0>\"\u001b[0;36m, line \u001b[0;32m7\u001b[0m\n\u001b[0;31m    selected_research = \"[\u001b[0m\n\u001b[0m                         ^\u001b[0m\n\u001b[0;31mSyntaxError\u001b[0m\u001b[0;31m:\u001b[0m EOL while scanning string literal\n"
     ]
    }
   ],
   "source": [
    "prof_1 = Professor(\n",
    "    courses_taught= [\n",
    "        \"Financial Accounting (Graduate) GACC 500\",\n",
    "        \"Management Accounting (Graduate) GACC 501\",\n",
    "        \"Accounting for Executives XACC500\"\n",
    "      ],\n",
    "    selected_research = \"[\n",
    "        \"Research Interests: Liquidity and Capital Markets, Pricing of Accounting Information, Market Anomaly, Market Efficiency, Accounting Regulation.\",\n",
    "        \"Explaining the On-The-Run Puzzle: Implications for Financial Reporting. Spring 2015.\",\n",
    "        \"Evidence on Lack of Liquidity for Small Public Firms, Journal of Business Valuation and Economic Loss Analysis. Volume 7, Issue 1, Pages“, ISSN (Online) 1932-9156, DOI: 10.1515/1932-9156.1111, June 2012\"\n",
    "      ]\",\n",
    "    room =\"Room 334\",\n",
    "    tags = \"accounting\",\n",
    "    prof_id = \"aanderson\",\n",
    "    areas_of_expertise = [\n",
    "        \"Tax accounting\",\n",
    "        \"Accounting\",\n",
    "        \"Audit\"\n",
    "      ],\n",
    "    phone = \"202-806-1587\",\n",
    "    role = \"Assistant Professor\",\n",
    "    department = \"Accounting\",\n",
    "    education = [\n",
    "        \"Rutgers Business School, Rutgers University, Ph.D., Accounting\",\n",
    "        \"Kellogg School of Management, Northwestern University Master of Management, Accounting and Finance\",\n",
    "        \"Dartmouth College, Bachelor of Arts, English\"\n",
    "      ],\n",
    "    email = \"anthony.anderson@howard.edu\",\n",
    "    biography =\"Dr. Anderson specializes in liquidity and capital markets, market anomalies and market efficiency. Dr. Anderson earned his Ph.D. from Rutgers University in 2013. Between 2007 and 2013 he was an Instructor at Rutgers University. Between 1989 and 2007 he worked in the profession as a bond trader for Bear Stearns and Company, Millennium Securities Brokerage and Hapoalim Securities.\",\n",
    "    name = \"Anthony Anderson Ph.D.\"\n",
    ")\n",
    "prof_1.save()       # This will perform an insert\n",
    "print(prof_1.name)"
   ]
  },
  {
   "cell_type": "code",
   "execution_count": null,
   "metadata": {
    "collapsed": false
   },
   "outputs": [],
   "source": []
  },
  {
   "cell_type": "code",
   "execution_count": null,
   "metadata": {
    "collapsed": true
   },
   "outputs": [],
   "source": []
  }
 ],
 "metadata": {
  "anaconda-cloud": {},
  "kernelspec": {
   "display_name": "Python [conda root]",
   "language": "python",
   "name": "conda-root-py"
  },
  "language_info": {
   "codemirror_mode": {
    "name": "ipython",
    "version": 2
   },
   "file_extension": ".py",
   "mimetype": "text/x-python",
   "name": "python",
   "nbconvert_exporter": "python",
   "pygments_lexer": "ipython2",
   "version": "2.7.12"
  }
 },
 "nbformat": 4,
 "nbformat_minor": 1
}
